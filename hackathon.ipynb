{
 "cells": [
  {
   "cell_type": "code",
   "execution_count": 109,
   "id": "7a177152",
   "metadata": {},
   "outputs": [],
   "source": [
    "import pandas as pd\n",
    "import numpy as np"
   ]
  },
  {
   "cell_type": "code",
   "execution_count": 110,
   "id": "9dad07a0",
   "metadata": {},
   "outputs": [],
   "source": [
    "df = pd.read_excel(r\"C:\\Users\\HP\\Downloads\\uber_rides_data.xlsx\")"
   ]
  },
  {
   "cell_type": "code",
   "execution_count": 111,
   "id": "3539e5cf",
   "metadata": {},
   "outputs": [
    {
     "data": {
      "text/html": [
       "<div>\n",
       "<style scoped>\n",
       "    .dataframe tbody tr th:only-of-type {\n",
       "        vertical-align: middle;\n",
       "    }\n",
       "\n",
       "    .dataframe tbody tr th {\n",
       "        vertical-align: top;\n",
       "    }\n",
       "\n",
       "    .dataframe thead th {\n",
       "        text-align: right;\n",
       "    }\n",
       "</style>\n",
       "<table border=\"1\" class=\"dataframe\">\n",
       "  <thead>\n",
       "    <tr style=\"text-align: right;\">\n",
       "      <th></th>\n",
       "      <th>ride_id</th>\n",
       "      <th>fare_amount</th>\n",
       "      <th>pickup_datetime</th>\n",
       "      <th>pickup_longitude</th>\n",
       "      <th>pickup_latitude</th>\n",
       "      <th>dropoff_longitude</th>\n",
       "      <th>dropoff_latitude</th>\n",
       "      <th>passenger_count</th>\n",
       "    </tr>\n",
       "  </thead>\n",
       "  <tbody>\n",
       "    <tr>\n",
       "      <th>0</th>\n",
       "      <td>24238194</td>\n",
       "      <td>7.5</td>\n",
       "      <td>2015-05-07 19:52:06 UTC</td>\n",
       "      <td>-73.999817</td>\n",
       "      <td>40.738354</td>\n",
       "      <td>-73.999512</td>\n",
       "      <td>40.723217</td>\n",
       "      <td>1</td>\n",
       "    </tr>\n",
       "    <tr>\n",
       "      <th>1</th>\n",
       "      <td>27835199</td>\n",
       "      <td>7.7</td>\n",
       "      <td>2009-07-17 20:04:56 UTC</td>\n",
       "      <td>-73.994355</td>\n",
       "      <td>40.728225</td>\n",
       "      <td>-73.994710</td>\n",
       "      <td>40.750325</td>\n",
       "      <td>1</td>\n",
       "    </tr>\n",
       "    <tr>\n",
       "      <th>2</th>\n",
       "      <td>44984355</td>\n",
       "      <td>12.9</td>\n",
       "      <td>2009-08-24 21:45:00 UTC</td>\n",
       "      <td>-74.005043</td>\n",
       "      <td>40.740770</td>\n",
       "      <td>-73.962565</td>\n",
       "      <td>40.772647</td>\n",
       "      <td>1</td>\n",
       "    </tr>\n",
       "    <tr>\n",
       "      <th>3</th>\n",
       "      <td>25894730</td>\n",
       "      <td>5.3</td>\n",
       "      <td>2009-06-26 08:22:21 UTC</td>\n",
       "      <td>-73.976124</td>\n",
       "      <td>40.790844</td>\n",
       "      <td>-73.965316</td>\n",
       "      <td>40.803349</td>\n",
       "      <td>3</td>\n",
       "    </tr>\n",
       "    <tr>\n",
       "      <th>4</th>\n",
       "      <td>17610152</td>\n",
       "      <td>16.0</td>\n",
       "      <td>2014-08-28 17:47:00 UTC</td>\n",
       "      <td>-73.925023</td>\n",
       "      <td>40.744085</td>\n",
       "      <td>-73.973082</td>\n",
       "      <td>40.761247</td>\n",
       "      <td>5</td>\n",
       "    </tr>\n",
       "    <tr>\n",
       "      <th>...</th>\n",
       "      <td>...</td>\n",
       "      <td>...</td>\n",
       "      <td>...</td>\n",
       "      <td>...</td>\n",
       "      <td>...</td>\n",
       "      <td>...</td>\n",
       "      <td>...</td>\n",
       "      <td>...</td>\n",
       "    </tr>\n",
       "    <tr>\n",
       "      <th>199995</th>\n",
       "      <td>42598914</td>\n",
       "      <td>3.0</td>\n",
       "      <td>2012-10-28 10:49:00 UTC</td>\n",
       "      <td>-73.987042</td>\n",
       "      <td>40.739367</td>\n",
       "      <td>-73.986525</td>\n",
       "      <td>40.740297</td>\n",
       "      <td>1</td>\n",
       "    </tr>\n",
       "    <tr>\n",
       "      <th>199996</th>\n",
       "      <td>16382965</td>\n",
       "      <td>7.5</td>\n",
       "      <td>2014-03-14 01:09:00 UTC</td>\n",
       "      <td>-73.984722</td>\n",
       "      <td>40.736837</td>\n",
       "      <td>-74.006672</td>\n",
       "      <td>40.739620</td>\n",
       "      <td>1</td>\n",
       "    </tr>\n",
       "    <tr>\n",
       "      <th>199997</th>\n",
       "      <td>27804658</td>\n",
       "      <td>30.9</td>\n",
       "      <td>2009-06-29 00:42:00 UTC</td>\n",
       "      <td>-73.986017</td>\n",
       "      <td>40.756487</td>\n",
       "      <td>-73.858957</td>\n",
       "      <td>40.692588</td>\n",
       "      <td>2</td>\n",
       "    </tr>\n",
       "    <tr>\n",
       "      <th>199998</th>\n",
       "      <td>20259894</td>\n",
       "      <td>14.5</td>\n",
       "      <td>2015-05-20 14:56:25 UTC</td>\n",
       "      <td>-73.997124</td>\n",
       "      <td>40.725452</td>\n",
       "      <td>-73.983215</td>\n",
       "      <td>40.695415</td>\n",
       "      <td>1</td>\n",
       "    </tr>\n",
       "    <tr>\n",
       "      <th>199999</th>\n",
       "      <td>11951496</td>\n",
       "      <td>14.1</td>\n",
       "      <td>2010-05-15 04:08:00 UTC</td>\n",
       "      <td>-73.984395</td>\n",
       "      <td>40.720077</td>\n",
       "      <td>-73.985508</td>\n",
       "      <td>40.768793</td>\n",
       "      <td>1</td>\n",
       "    </tr>\n",
       "  </tbody>\n",
       "</table>\n",
       "<p>200000 rows × 8 columns</p>\n",
       "</div>"
      ],
      "text/plain": [
       "         ride_id  fare_amount          pickup_datetime  pickup_longitude  \\\n",
       "0       24238194          7.5  2015-05-07 19:52:06 UTC        -73.999817   \n",
       "1       27835199          7.7  2009-07-17 20:04:56 UTC        -73.994355   \n",
       "2       44984355         12.9  2009-08-24 21:45:00 UTC        -74.005043   \n",
       "3       25894730          5.3  2009-06-26 08:22:21 UTC        -73.976124   \n",
       "4       17610152         16.0  2014-08-28 17:47:00 UTC        -73.925023   \n",
       "...          ...          ...                      ...               ...   \n",
       "199995  42598914          3.0  2012-10-28 10:49:00 UTC        -73.987042   \n",
       "199996  16382965          7.5  2014-03-14 01:09:00 UTC        -73.984722   \n",
       "199997  27804658         30.9  2009-06-29 00:42:00 UTC        -73.986017   \n",
       "199998  20259894         14.5  2015-05-20 14:56:25 UTC        -73.997124   \n",
       "199999  11951496         14.1  2010-05-15 04:08:00 UTC        -73.984395   \n",
       "\n",
       "        pickup_latitude  dropoff_longitude  dropoff_latitude  passenger_count  \n",
       "0             40.738354         -73.999512         40.723217                1  \n",
       "1             40.728225         -73.994710         40.750325                1  \n",
       "2             40.740770         -73.962565         40.772647                1  \n",
       "3             40.790844         -73.965316         40.803349                3  \n",
       "4             40.744085         -73.973082         40.761247                5  \n",
       "...                 ...                ...               ...              ...  \n",
       "199995        40.739367         -73.986525         40.740297                1  \n",
       "199996        40.736837         -74.006672         40.739620                1  \n",
       "199997        40.756487         -73.858957         40.692588                2  \n",
       "199998        40.725452         -73.983215         40.695415                1  \n",
       "199999        40.720077         -73.985508         40.768793                1  \n",
       "\n",
       "[200000 rows x 8 columns]"
      ]
     },
     "execution_count": 111,
     "metadata": {},
     "output_type": "execute_result"
    }
   ],
   "source": [
    "df"
   ]
  },
  {
   "cell_type": "code",
   "execution_count": 112,
   "id": "376471d2",
   "metadata": {},
   "outputs": [
    {
     "data": {
      "text/plain": [
       "(200000, 8)"
      ]
     },
     "execution_count": 112,
     "metadata": {},
     "output_type": "execute_result"
    }
   ],
   "source": [
    "df.shape"
   ]
  },
  {
   "cell_type": "code",
   "execution_count": 113,
   "id": "00ea9152",
   "metadata": {},
   "outputs": [
    {
     "name": "stdout",
     "output_type": "stream",
     "text": [
      "<class 'pandas.core.frame.DataFrame'>\n",
      "RangeIndex: 200000 entries, 0 to 199999\n",
      "Data columns (total 8 columns):\n",
      " #   Column             Non-Null Count   Dtype  \n",
      "---  ------             --------------   -----  \n",
      " 0   ride_id            200000 non-null  int64  \n",
      " 1   fare_amount        200000 non-null  float64\n",
      " 2   pickup_datetime    200000 non-null  object \n",
      " 3   pickup_longitude   200000 non-null  float64\n",
      " 4   pickup_latitude    200000 non-null  float64\n",
      " 5   dropoff_longitude  199999 non-null  float64\n",
      " 6   dropoff_latitude   199999 non-null  float64\n",
      " 7   passenger_count    200000 non-null  int64  \n",
      "dtypes: float64(5), int64(2), object(1)\n",
      "memory usage: 12.2+ MB\n"
     ]
    }
   ],
   "source": [
    "df.info()"
   ]
  },
  {
   "cell_type": "code",
   "execution_count": 114,
   "id": "da98c6e3",
   "metadata": {},
   "outputs": [],
   "source": [
    "df = df.dropna()"
   ]
  },
  {
   "cell_type": "code",
   "execution_count": 116,
   "id": "bec391cf",
   "metadata": {},
   "outputs": [
    {
     "data": {
      "text/plain": [
       "(199999, 8)"
      ]
     },
     "execution_count": 116,
     "metadata": {},
     "output_type": "execute_result"
    }
   ],
   "source": [
    "df.shape"
   ]
  },
  {
   "cell_type": "code",
   "execution_count": 10,
   "id": "d737a55e",
   "metadata": {},
   "outputs": [
    {
     "data": {
      "text/plain": [
       "1"
      ]
     },
     "execution_count": 10,
     "metadata": {},
     "output_type": "execute_result"
    }
   ],
   "source": [
    "df.dropoff_longitude.isna().sum()"
   ]
  },
  {
   "cell_type": "code",
   "execution_count": 16,
   "id": "8894161c",
   "metadata": {},
   "outputs": [
    {
     "data": {
      "text/plain": [
       "499.0"
      ]
     },
     "execution_count": 16,
     "metadata": {},
     "output_type": "execute_result"
    }
   ],
   "source": [
    "df.fare_amount.max()"
   ]
  },
  {
   "cell_type": "code",
   "execution_count": 19,
   "id": "573127f8",
   "metadata": {},
   "outputs": [
    {
     "data": {
      "text/plain": [
       "0         2015-05-07 19:52:06 UTC\n",
       "1         2009-07-17 20:04:56 UTC\n",
       "2         2009-08-24 21:45:00 UTC\n",
       "3         2009-06-26 08:22:21 UTC\n",
       "4         2014-08-28 17:47:00 UTC\n",
       "                   ...           \n",
       "199995    2012-10-28 10:49:00 UTC\n",
       "199996    2014-03-14 01:09:00 UTC\n",
       "199997    2009-06-29 00:42:00 UTC\n",
       "199998    2015-05-20 14:56:25 UTC\n",
       "199999    2010-05-15 04:08:00 UTC\n",
       "Name: pickup_datetime, Length: 200000, dtype: object"
      ]
     },
     "execution_count": 19,
     "metadata": {},
     "output_type": "execute_result"
    }
   ],
   "source": [
    "df.pickup_datetime"
   ]
  },
  {
   "cell_type": "code",
   "execution_count": 151,
   "id": "ceab45de",
   "metadata": {},
   "outputs": [
    {
     "name": "stderr",
     "output_type": "stream",
     "text": [
      "C:\\Users\\HP\\AppData\\Local\\Temp\\ipykernel_29048\\1049735705.py:1: SettingWithCopyWarning: \n",
      "A value is trying to be set on a copy of a slice from a DataFrame.\n",
      "Try using .loc[row_indexer,col_indexer] = value instead\n",
      "\n",
      "See the caveats in the documentation: https://pandas.pydata.org/pandas-docs/stable/user_guide/indexing.html#returning-a-view-versus-a-copy\n",
      "  df.pickup_datetime = pd.to_datetime(df.pickup_datetime)\n"
     ]
    }
   ],
   "source": [
    "df.pickup_datetime = pd.to_datetime(df.pickup_datetime)"
   ]
  },
  {
   "cell_type": "code",
   "execution_count": 27,
   "id": "2b97df1d",
   "metadata": {},
   "outputs": [
    {
     "data": {
      "text/plain": [
       "3     2755\n",
       "4     2704\n",
       "5     2667\n",
       "10    2665\n",
       "1     2494\n",
       "6     2491\n",
       "2     2438\n",
       "11    2404\n",
       "9     2391\n",
       "12    2383\n",
       "7     2357\n",
       "8     2219\n",
       "Name: pickup_datetime, dtype: int64"
      ]
     },
     "execution_count": 27,
     "metadata": {},
     "output_type": "execute_result"
    }
   ],
   "source": [
    "pd.DatetimeIndex(df.pickup_datetime[pd.DatetimeIndex(df.pickup_datetime).year == 2014]).month.value_counts()"
   ]
  },
  {
   "cell_type": "code",
   "execution_count": 28,
   "id": "154109ce",
   "metadata": {},
   "outputs": [
    {
     "data": {
      "text/plain": [
       "7687"
      ]
     },
     "execution_count": 28,
     "metadata": {},
     "output_type": "execute_result"
    }
   ],
   "source": [
    "2755+2494+2438"
   ]
  },
  {
   "cell_type": "code",
   "execution_count": 137,
   "id": "6c24ab8f",
   "metadata": {},
   "outputs": [],
   "source": [
    "import numpy as np\n",
    "\n",
    "def haversine(lat1, lon1, lat2, lon2):\n",
    "    R = 6371  # radius of Earth in kilometers\n",
    "    phi1 = np.radians(lat1)\n",
    "    phi2 = np.radians(lat2)\n",
    "    delta_phi = np.radians(lat2 - lat1)\n",
    "    delta_lambda = np.radians(lon2 - lon1)\n",
    "    a = np.sin(delta_phi/2)**2 + np.cos(phi1) * np.cos(phi2) * np.sin(delta_lambda/2)**2\n",
    "    res = R * (2 * np.arctan2(np.sqrt(a), np.sqrt(1 - a)))\n",
    "    return np.round(res, 5)"
   ]
  },
  {
   "cell_type": "code",
   "execution_count": 94,
   "id": "ccc7b79d",
   "metadata": {},
   "outputs": [],
   "source": []
  },
  {
   "cell_type": "code",
   "execution_count": 95,
   "id": "810f9942",
   "metadata": {},
   "outputs": [],
   "source": []
  },
  {
   "cell_type": "code",
   "execution_count": 138,
   "id": "205ab8b7",
   "metadata": {},
   "outputs": [],
   "source": [
    "distances = df.apply(lambda x: haversine(x['pickup_latitude'], x['pickup_longitude'], x['dropoff_latitude'], x['dropoff_longitude']),axis = 1)"
   ]
  },
  {
   "cell_type": "code",
   "execution_count": 119,
   "id": "47ad67b3",
   "metadata": {},
   "outputs": [
    {
     "data": {
      "text/plain": [
       "2.12"
      ]
     },
     "execution_count": 119,
     "metadata": {},
     "output_type": "execute_result"
    }
   ],
   "source": [
    "distances.median()"
   ]
  },
  {
   "cell_type": "code",
   "execution_count": 139,
   "id": "f4dbaf22",
   "metadata": {},
   "outputs": [
    {
     "data": {
      "text/plain": [
       "0.00000    5632\n",
       "0.00042      11\n",
       "0.00028      11\n",
       "0.00034      11\n",
       "0.00008       9\n",
       "           ... \n",
       "1.83733       1\n",
       "1.50837       1\n",
       "5.75705       1\n",
       "3.05445       1\n",
       "5.41778       1\n",
       "Length: 164777, dtype: int64"
      ]
     },
     "execution_count": 139,
     "metadata": {},
     "output_type": "execute_result"
    }
   ],
   "source": [
    "distances.value_counts()"
   ]
  },
  {
   "cell_type": "code",
   "execution_count": null,
   "id": "3103ab13",
   "metadata": {},
   "outputs": [],
   "source": []
  },
  {
   "cell_type": "code",
   "execution_count": 141,
   "id": "e81ad116",
   "metadata": {},
   "outputs": [
    {
     "name": "stderr",
     "output_type": "stream",
     "text": [
      "C:\\Users\\HP\\AppData\\Local\\Temp\\ipykernel_29048\\3528062285.py:1: SettingWithCopyWarning: \n",
      "A value is trying to be set on a copy of a slice from a DataFrame.\n",
      "Try using .loc[row_indexer,col_indexer] = value instead\n",
      "\n",
      "See the caveats in the documentation: https://pandas.pydata.org/pandas-docs/stable/user_guide/indexing.html#returning-a-view-versus-a-copy\n",
      "  df['distances'] = distances\n"
     ]
    }
   ],
   "source": [
    "df['distances'] = distances"
   ]
  },
  {
   "cell_type": "code",
   "execution_count": 142,
   "id": "739c2ccb",
   "metadata": {},
   "outputs": [
    {
     "data": {
      "text/plain": [
       "11.585317826704546"
      ]
     },
     "execution_count": 142,
     "metadata": {},
     "output_type": "execute_result"
    }
   ],
   "source": [
    "df.fare_amount[df.distances == 0].mean()"
   ]
  },
  {
   "cell_type": "code",
   "execution_count": 143,
   "id": "c1c36e7a",
   "metadata": {},
   "outputs": [
    {
     "data": {
      "text/plain": [
       "170081    0.00079\n",
       "Name: distances, dtype: float64"
      ]
     },
     "execution_count": 143,
     "metadata": {},
     "output_type": "execute_result"
    }
   ],
   "source": [
    "df.distances[df.fare_amount == df.fare_amount.max()]"
   ]
  },
  {
   "cell_type": "code",
   "execution_count": 136,
   "id": "74a4094c",
   "metadata": {},
   "outputs": [
    {
     "data": {
      "text/html": [
       "<div>\n",
       "<style scoped>\n",
       "    .dataframe tbody tr th:only-of-type {\n",
       "        vertical-align: middle;\n",
       "    }\n",
       "\n",
       "    .dataframe tbody tr th {\n",
       "        vertical-align: top;\n",
       "    }\n",
       "\n",
       "    .dataframe thead th {\n",
       "        text-align: right;\n",
       "    }\n",
       "</style>\n",
       "<table border=\"1\" class=\"dataframe\">\n",
       "  <thead>\n",
       "    <tr style=\"text-align: right;\">\n",
       "      <th></th>\n",
       "      <th>ride_id</th>\n",
       "      <th>fare_amount</th>\n",
       "      <th>pickup_datetime</th>\n",
       "      <th>pickup_longitude</th>\n",
       "      <th>pickup_latitude</th>\n",
       "      <th>dropoff_longitude</th>\n",
       "      <th>dropoff_latitude</th>\n",
       "      <th>passenger_count</th>\n",
       "      <th>distances</th>\n",
       "    </tr>\n",
       "  </thead>\n",
       "  <tbody>\n",
       "    <tr>\n",
       "      <th>0</th>\n",
       "      <td>24238194</td>\n",
       "      <td>7.5</td>\n",
       "      <td>2015-05-07 19:52:06 UTC</td>\n",
       "      <td>-73.999817</td>\n",
       "      <td>40.738354</td>\n",
       "      <td>-73.999512</td>\n",
       "      <td>40.723217</td>\n",
       "      <td>1</td>\n",
       "      <td>1.68</td>\n",
       "    </tr>\n",
       "    <tr>\n",
       "      <th>1</th>\n",
       "      <td>27835199</td>\n",
       "      <td>7.7</td>\n",
       "      <td>2009-07-17 20:04:56 UTC</td>\n",
       "      <td>-73.994355</td>\n",
       "      <td>40.728225</td>\n",
       "      <td>-73.994710</td>\n",
       "      <td>40.750325</td>\n",
       "      <td>1</td>\n",
       "      <td>2.46</td>\n",
       "    </tr>\n",
       "    <tr>\n",
       "      <th>2</th>\n",
       "      <td>44984355</td>\n",
       "      <td>12.9</td>\n",
       "      <td>2009-08-24 21:45:00 UTC</td>\n",
       "      <td>-74.005043</td>\n",
       "      <td>40.740770</td>\n",
       "      <td>-73.962565</td>\n",
       "      <td>40.772647</td>\n",
       "      <td>1</td>\n",
       "      <td>5.04</td>\n",
       "    </tr>\n",
       "    <tr>\n",
       "      <th>3</th>\n",
       "      <td>25894730</td>\n",
       "      <td>5.3</td>\n",
       "      <td>2009-06-26 08:22:21 UTC</td>\n",
       "      <td>-73.976124</td>\n",
       "      <td>40.790844</td>\n",
       "      <td>-73.965316</td>\n",
       "      <td>40.803349</td>\n",
       "      <td>3</td>\n",
       "      <td>1.66</td>\n",
       "    </tr>\n",
       "    <tr>\n",
       "      <th>4</th>\n",
       "      <td>17610152</td>\n",
       "      <td>16.0</td>\n",
       "      <td>2014-08-28 17:47:00 UTC</td>\n",
       "      <td>-73.925023</td>\n",
       "      <td>40.744085</td>\n",
       "      <td>-73.973082</td>\n",
       "      <td>40.761247</td>\n",
       "      <td>5</td>\n",
       "      <td>4.48</td>\n",
       "    </tr>\n",
       "    <tr>\n",
       "      <th>...</th>\n",
       "      <td>...</td>\n",
       "      <td>...</td>\n",
       "      <td>...</td>\n",
       "      <td>...</td>\n",
       "      <td>...</td>\n",
       "      <td>...</td>\n",
       "      <td>...</td>\n",
       "      <td>...</td>\n",
       "      <td>...</td>\n",
       "    </tr>\n",
       "    <tr>\n",
       "      <th>199995</th>\n",
       "      <td>42598914</td>\n",
       "      <td>3.0</td>\n",
       "      <td>2012-10-28 10:49:00 UTC</td>\n",
       "      <td>-73.987042</td>\n",
       "      <td>40.739367</td>\n",
       "      <td>-73.986525</td>\n",
       "      <td>40.740297</td>\n",
       "      <td>1</td>\n",
       "      <td>0.11</td>\n",
       "    </tr>\n",
       "    <tr>\n",
       "      <th>199996</th>\n",
       "      <td>16382965</td>\n",
       "      <td>7.5</td>\n",
       "      <td>2014-03-14 01:09:00 UTC</td>\n",
       "      <td>-73.984722</td>\n",
       "      <td>40.736837</td>\n",
       "      <td>-74.006672</td>\n",
       "      <td>40.739620</td>\n",
       "      <td>1</td>\n",
       "      <td>1.88</td>\n",
       "    </tr>\n",
       "    <tr>\n",
       "      <th>199997</th>\n",
       "      <td>27804658</td>\n",
       "      <td>30.9</td>\n",
       "      <td>2009-06-29 00:42:00 UTC</td>\n",
       "      <td>-73.986017</td>\n",
       "      <td>40.756487</td>\n",
       "      <td>-73.858957</td>\n",
       "      <td>40.692588</td>\n",
       "      <td>2</td>\n",
       "      <td>12.85</td>\n",
       "    </tr>\n",
       "    <tr>\n",
       "      <th>199998</th>\n",
       "      <td>20259894</td>\n",
       "      <td>14.5</td>\n",
       "      <td>2015-05-20 14:56:25 UTC</td>\n",
       "      <td>-73.997124</td>\n",
       "      <td>40.725452</td>\n",
       "      <td>-73.983215</td>\n",
       "      <td>40.695415</td>\n",
       "      <td>1</td>\n",
       "      <td>3.54</td>\n",
       "    </tr>\n",
       "    <tr>\n",
       "      <th>199999</th>\n",
       "      <td>11951496</td>\n",
       "      <td>14.1</td>\n",
       "      <td>2010-05-15 04:08:00 UTC</td>\n",
       "      <td>-73.984395</td>\n",
       "      <td>40.720077</td>\n",
       "      <td>-73.985508</td>\n",
       "      <td>40.768793</td>\n",
       "      <td>1</td>\n",
       "      <td>5.42</td>\n",
       "    </tr>\n",
       "  </tbody>\n",
       "</table>\n",
       "<p>199999 rows × 9 columns</p>\n",
       "</div>"
      ],
      "text/plain": [
       "         ride_id  fare_amount          pickup_datetime  pickup_longitude  \\\n",
       "0       24238194          7.5  2015-05-07 19:52:06 UTC        -73.999817   \n",
       "1       27835199          7.7  2009-07-17 20:04:56 UTC        -73.994355   \n",
       "2       44984355         12.9  2009-08-24 21:45:00 UTC        -74.005043   \n",
       "3       25894730          5.3  2009-06-26 08:22:21 UTC        -73.976124   \n",
       "4       17610152         16.0  2014-08-28 17:47:00 UTC        -73.925023   \n",
       "...          ...          ...                      ...               ...   \n",
       "199995  42598914          3.0  2012-10-28 10:49:00 UTC        -73.987042   \n",
       "199996  16382965          7.5  2014-03-14 01:09:00 UTC        -73.984722   \n",
       "199997  27804658         30.9  2009-06-29 00:42:00 UTC        -73.986017   \n",
       "199998  20259894         14.5  2015-05-20 14:56:25 UTC        -73.997124   \n",
       "199999  11951496         14.1  2010-05-15 04:08:00 UTC        -73.984395   \n",
       "\n",
       "        pickup_latitude  dropoff_longitude  dropoff_latitude  passenger_count  \\\n",
       "0             40.738354         -73.999512         40.723217                1   \n",
       "1             40.728225         -73.994710         40.750325                1   \n",
       "2             40.740770         -73.962565         40.772647                1   \n",
       "3             40.790844         -73.965316         40.803349                3   \n",
       "4             40.744085         -73.973082         40.761247                5   \n",
       "...                 ...                ...               ...              ...   \n",
       "199995        40.739367         -73.986525         40.740297                1   \n",
       "199996        40.736837         -74.006672         40.739620                1   \n",
       "199997        40.756487         -73.858957         40.692588                2   \n",
       "199998        40.725452         -73.983215         40.695415                1   \n",
       "199999        40.720077         -73.985508         40.768793                1   \n",
       "\n",
       "        distances  \n",
       "0            1.68  \n",
       "1            2.46  \n",
       "2            5.04  \n",
       "3            1.66  \n",
       "4            4.48  \n",
       "...           ...  \n",
       "199995       0.11  \n",
       "199996       1.88  \n",
       "199997      12.85  \n",
       "199998       3.54  \n",
       "199999       5.42  \n",
       "\n",
       "[199999 rows x 9 columns]"
      ]
     },
     "execution_count": 136,
     "metadata": {},
     "output_type": "execute_result"
    }
   ],
   "source": [
    "df"
   ]
  },
  {
   "cell_type": "code",
   "execution_count": 144,
   "id": "91c1a563",
   "metadata": {},
   "outputs": [
    {
     "data": {
      "text/html": [
       "<div>\n",
       "<style scoped>\n",
       "    .dataframe tbody tr th:only-of-type {\n",
       "        vertical-align: middle;\n",
       "    }\n",
       "\n",
       "    .dataframe tbody tr th {\n",
       "        vertical-align: top;\n",
       "    }\n",
       "\n",
       "    .dataframe thead th {\n",
       "        text-align: right;\n",
       "    }\n",
       "</style>\n",
       "<table border=\"1\" class=\"dataframe\">\n",
       "  <thead>\n",
       "    <tr style=\"text-align: right;\">\n",
       "      <th></th>\n",
       "      <th>ride_id</th>\n",
       "      <th>fare_amount</th>\n",
       "      <th>pickup_datetime</th>\n",
       "      <th>pickup_longitude</th>\n",
       "      <th>pickup_latitude</th>\n",
       "      <th>dropoff_longitude</th>\n",
       "      <th>dropoff_latitude</th>\n",
       "      <th>passenger_count</th>\n",
       "      <th>distances</th>\n",
       "    </tr>\n",
       "  </thead>\n",
       "  <tbody>\n",
       "    <tr>\n",
       "      <th>0</th>\n",
       "      <td>24238194</td>\n",
       "      <td>7.5</td>\n",
       "      <td>2015-05-07 19:52:06 UTC</td>\n",
       "      <td>-73.999817</td>\n",
       "      <td>40.738354</td>\n",
       "      <td>-73.999512</td>\n",
       "      <td>40.723217</td>\n",
       "      <td>1</td>\n",
       "      <td>1.68332</td>\n",
       "    </tr>\n",
       "    <tr>\n",
       "      <th>1</th>\n",
       "      <td>27835199</td>\n",
       "      <td>7.7</td>\n",
       "      <td>2009-07-17 20:04:56 UTC</td>\n",
       "      <td>-73.994355</td>\n",
       "      <td>40.728225</td>\n",
       "      <td>-73.994710</td>\n",
       "      <td>40.750325</td>\n",
       "      <td>1</td>\n",
       "      <td>2.45759</td>\n",
       "    </tr>\n",
       "    <tr>\n",
       "      <th>2</th>\n",
       "      <td>44984355</td>\n",
       "      <td>12.9</td>\n",
       "      <td>2009-08-24 21:45:00 UTC</td>\n",
       "      <td>-74.005043</td>\n",
       "      <td>40.740770</td>\n",
       "      <td>-73.962565</td>\n",
       "      <td>40.772647</td>\n",
       "      <td>1</td>\n",
       "      <td>5.03638</td>\n",
       "    </tr>\n",
       "    <tr>\n",
       "      <th>3</th>\n",
       "      <td>25894730</td>\n",
       "      <td>5.3</td>\n",
       "      <td>2009-06-26 08:22:21 UTC</td>\n",
       "      <td>-73.976124</td>\n",
       "      <td>40.790844</td>\n",
       "      <td>-73.965316</td>\n",
       "      <td>40.803349</td>\n",
       "      <td>3</td>\n",
       "      <td>1.66168</td>\n",
       "    </tr>\n",
       "    <tr>\n",
       "      <th>4</th>\n",
       "      <td>17610152</td>\n",
       "      <td>16.0</td>\n",
       "      <td>2014-08-28 17:47:00 UTC</td>\n",
       "      <td>-73.925023</td>\n",
       "      <td>40.744085</td>\n",
       "      <td>-73.973082</td>\n",
       "      <td>40.761247</td>\n",
       "      <td>5</td>\n",
       "      <td>4.47545</td>\n",
       "    </tr>\n",
       "    <tr>\n",
       "      <th>...</th>\n",
       "      <td>...</td>\n",
       "      <td>...</td>\n",
       "      <td>...</td>\n",
       "      <td>...</td>\n",
       "      <td>...</td>\n",
       "      <td>...</td>\n",
       "      <td>...</td>\n",
       "      <td>...</td>\n",
       "      <td>...</td>\n",
       "    </tr>\n",
       "    <tr>\n",
       "      <th>199995</th>\n",
       "      <td>42598914</td>\n",
       "      <td>3.0</td>\n",
       "      <td>2012-10-28 10:49:00 UTC</td>\n",
       "      <td>-73.987042</td>\n",
       "      <td>40.739367</td>\n",
       "      <td>-73.986525</td>\n",
       "      <td>40.740297</td>\n",
       "      <td>1</td>\n",
       "      <td>0.11221</td>\n",
       "    </tr>\n",
       "    <tr>\n",
       "      <th>199996</th>\n",
       "      <td>16382965</td>\n",
       "      <td>7.5</td>\n",
       "      <td>2014-03-14 01:09:00 UTC</td>\n",
       "      <td>-73.984722</td>\n",
       "      <td>40.736837</td>\n",
       "      <td>-74.006672</td>\n",
       "      <td>40.739620</td>\n",
       "      <td>1</td>\n",
       "      <td>1.87505</td>\n",
       "    </tr>\n",
       "    <tr>\n",
       "      <th>199997</th>\n",
       "      <td>27804658</td>\n",
       "      <td>30.9</td>\n",
       "      <td>2009-06-29 00:42:00 UTC</td>\n",
       "      <td>-73.986017</td>\n",
       "      <td>40.756487</td>\n",
       "      <td>-73.858957</td>\n",
       "      <td>40.692588</td>\n",
       "      <td>2</td>\n",
       "      <td>12.85032</td>\n",
       "    </tr>\n",
       "    <tr>\n",
       "      <th>199998</th>\n",
       "      <td>20259894</td>\n",
       "      <td>14.5</td>\n",
       "      <td>2015-05-20 14:56:25 UTC</td>\n",
       "      <td>-73.997124</td>\n",
       "      <td>40.725452</td>\n",
       "      <td>-73.983215</td>\n",
       "      <td>40.695415</td>\n",
       "      <td>1</td>\n",
       "      <td>3.53972</td>\n",
       "    </tr>\n",
       "    <tr>\n",
       "      <th>199999</th>\n",
       "      <td>11951496</td>\n",
       "      <td>14.1</td>\n",
       "      <td>2010-05-15 04:08:00 UTC</td>\n",
       "      <td>-73.984395</td>\n",
       "      <td>40.720077</td>\n",
       "      <td>-73.985508</td>\n",
       "      <td>40.768793</td>\n",
       "      <td>1</td>\n",
       "      <td>5.41778</td>\n",
       "    </tr>\n",
       "  </tbody>\n",
       "</table>\n",
       "<p>199999 rows × 9 columns</p>\n",
       "</div>"
      ],
      "text/plain": [
       "         ride_id  fare_amount          pickup_datetime  pickup_longitude  \\\n",
       "0       24238194          7.5  2015-05-07 19:52:06 UTC        -73.999817   \n",
       "1       27835199          7.7  2009-07-17 20:04:56 UTC        -73.994355   \n",
       "2       44984355         12.9  2009-08-24 21:45:00 UTC        -74.005043   \n",
       "3       25894730          5.3  2009-06-26 08:22:21 UTC        -73.976124   \n",
       "4       17610152         16.0  2014-08-28 17:47:00 UTC        -73.925023   \n",
       "...          ...          ...                      ...               ...   \n",
       "199995  42598914          3.0  2012-10-28 10:49:00 UTC        -73.987042   \n",
       "199996  16382965          7.5  2014-03-14 01:09:00 UTC        -73.984722   \n",
       "199997  27804658         30.9  2009-06-29 00:42:00 UTC        -73.986017   \n",
       "199998  20259894         14.5  2015-05-20 14:56:25 UTC        -73.997124   \n",
       "199999  11951496         14.1  2010-05-15 04:08:00 UTC        -73.984395   \n",
       "\n",
       "        pickup_latitude  dropoff_longitude  dropoff_latitude  passenger_count  \\\n",
       "0             40.738354         -73.999512         40.723217                1   \n",
       "1             40.728225         -73.994710         40.750325                1   \n",
       "2             40.740770         -73.962565         40.772647                1   \n",
       "3             40.790844         -73.965316         40.803349                3   \n",
       "4             40.744085         -73.973082         40.761247                5   \n",
       "...                 ...                ...               ...              ...   \n",
       "199995        40.739367         -73.986525         40.740297                1   \n",
       "199996        40.736837         -74.006672         40.739620                1   \n",
       "199997        40.756487         -73.858957         40.692588                2   \n",
       "199998        40.725452         -73.983215         40.695415                1   \n",
       "199999        40.720077         -73.985508         40.768793                1   \n",
       "\n",
       "        distances  \n",
       "0         1.68332  \n",
       "1         2.45759  \n",
       "2         5.03638  \n",
       "3         1.66168  \n",
       "4         4.47545  \n",
       "...           ...  \n",
       "199995    0.11221  \n",
       "199996    1.87505  \n",
       "199997   12.85032  \n",
       "199998    3.53972  \n",
       "199999    5.41778  \n",
       "\n",
       "[199999 rows x 9 columns]"
      ]
     },
     "execution_count": 144,
     "metadata": {},
     "output_type": "execute_result"
    }
   ],
   "source": [
    "df"
   ]
  },
  {
   "cell_type": "code",
   "execution_count": 154,
   "id": "70cfa8aa",
   "metadata": {},
   "outputs": [
    {
     "name": "stderr",
     "output_type": "stream",
     "text": [
      "C:\\Users\\HP\\AppData\\Local\\Temp\\ipykernel_29048\\3380926122.py:1: SettingWithCopyWarning: \n",
      "A value is trying to be set on a copy of a slice from a DataFrame.\n",
      "Try using .loc[row_indexer,col_indexer] = value instead\n",
      "\n",
      "See the caveats in the documentation: https://pandas.pydata.org/pandas-docs/stable/user_guide/indexing.html#returning-a-view-versus-a-copy\n",
      "  df['day'] = df['pickup_datetime'].dt.day_name()\n"
     ]
    }
   ],
   "source": [
    "df['day'] = df['pickup_datetime'].dt.day_name()"
   ]
  },
  {
   "cell_type": "code",
   "execution_count": 156,
   "id": "8acd1cf2",
   "metadata": {},
   "outputs": [
    {
     "name": "stderr",
     "output_type": "stream",
     "text": [
      "C:\\Users\\HP\\AppData\\Local\\Temp\\ipykernel_29048\\3716019120.py:1: SettingWithCopyWarning: \n",
      "A value is trying to be set on a copy of a slice from a DataFrame.\n",
      "Try using .loc[row_indexer,col_indexer] = value instead\n",
      "\n",
      "See the caveats in the documentation: https://pandas.pydata.org/pandas-docs/stable/user_guide/indexing.html#returning-a-view-versus-a-copy\n",
      "  df['day_num'] = df['pickup_datetime'].dt.day_of_week\n"
     ]
    }
   ],
   "source": [
    "df['day_num'] = df['pickup_datetime'].dt.day_of_week"
   ]
  },
  {
   "cell_type": "code",
   "execution_count": 148,
   "id": "d10bb833",
   "metadata": {},
   "outputs": [],
   "source": [
    "import datetime as dt"
   ]
  },
  {
   "cell_type": "code",
   "execution_count": 152,
   "id": "3778b78e",
   "metadata": {},
   "outputs": [
    {
     "name": "stdout",
     "output_type": "stream",
     "text": [
      "<class 'pandas.core.frame.DataFrame'>\n",
      "Int64Index: 199999 entries, 0 to 199999\n",
      "Data columns (total 9 columns):\n",
      " #   Column             Non-Null Count   Dtype              \n",
      "---  ------             --------------   -----              \n",
      " 0   ride_id            199999 non-null  int64              \n",
      " 1   fare_amount        199999 non-null  float64            \n",
      " 2   pickup_datetime    199999 non-null  datetime64[ns, UTC]\n",
      " 3   pickup_longitude   199999 non-null  float64            \n",
      " 4   pickup_latitude    199999 non-null  float64            \n",
      " 5   dropoff_longitude  199999 non-null  float64            \n",
      " 6   dropoff_latitude   199999 non-null  float64            \n",
      " 7   passenger_count    199999 non-null  int64              \n",
      " 8   distances          199999 non-null  float64            \n",
      "dtypes: datetime64[ns, UTC](1), float64(6), int64(2)\n",
      "memory usage: 19.3 MB\n"
     ]
    }
   ],
   "source": [
    "df.info()"
   ]
  },
  {
   "cell_type": "markdown",
   "id": "263185d8",
   "metadata": {},
   "source": [
    "# Model building "
   ]
  },
  {
   "cell_type": "code",
   "execution_count": 158,
   "id": "ee8e5bb0",
   "metadata": {},
   "outputs": [
    {
     "data": {
      "text/html": [
       "<div>\n",
       "<style scoped>\n",
       "    .dataframe tbody tr th:only-of-type {\n",
       "        vertical-align: middle;\n",
       "    }\n",
       "\n",
       "    .dataframe tbody tr th {\n",
       "        vertical-align: top;\n",
       "    }\n",
       "\n",
       "    .dataframe thead th {\n",
       "        text-align: right;\n",
       "    }\n",
       "</style>\n",
       "<table border=\"1\" class=\"dataframe\">\n",
       "  <thead>\n",
       "    <tr style=\"text-align: right;\">\n",
       "      <th></th>\n",
       "      <th>ride_id</th>\n",
       "      <th>fare_amount</th>\n",
       "      <th>pickup_datetime</th>\n",
       "      <th>pickup_longitude</th>\n",
       "      <th>pickup_latitude</th>\n",
       "      <th>dropoff_longitude</th>\n",
       "      <th>dropoff_latitude</th>\n",
       "      <th>passenger_count</th>\n",
       "      <th>distances</th>\n",
       "      <th>day</th>\n",
       "      <th>day_num</th>\n",
       "    </tr>\n",
       "  </thead>\n",
       "  <tbody>\n",
       "    <tr>\n",
       "      <th>0</th>\n",
       "      <td>24238194</td>\n",
       "      <td>7.5</td>\n",
       "      <td>2015-05-07 19:52:06+00:00</td>\n",
       "      <td>-73.999817</td>\n",
       "      <td>40.738354</td>\n",
       "      <td>-73.999512</td>\n",
       "      <td>40.723217</td>\n",
       "      <td>1</td>\n",
       "      <td>1.68332</td>\n",
       "      <td>Thursday</td>\n",
       "      <td>3</td>\n",
       "    </tr>\n",
       "    <tr>\n",
       "      <th>1</th>\n",
       "      <td>27835199</td>\n",
       "      <td>7.7</td>\n",
       "      <td>2009-07-17 20:04:56+00:00</td>\n",
       "      <td>-73.994355</td>\n",
       "      <td>40.728225</td>\n",
       "      <td>-73.994710</td>\n",
       "      <td>40.750325</td>\n",
       "      <td>1</td>\n",
       "      <td>2.45759</td>\n",
       "      <td>Friday</td>\n",
       "      <td>4</td>\n",
       "    </tr>\n",
       "    <tr>\n",
       "      <th>2</th>\n",
       "      <td>44984355</td>\n",
       "      <td>12.9</td>\n",
       "      <td>2009-08-24 21:45:00+00:00</td>\n",
       "      <td>-74.005043</td>\n",
       "      <td>40.740770</td>\n",
       "      <td>-73.962565</td>\n",
       "      <td>40.772647</td>\n",
       "      <td>1</td>\n",
       "      <td>5.03638</td>\n",
       "      <td>Monday</td>\n",
       "      <td>0</td>\n",
       "    </tr>\n",
       "    <tr>\n",
       "      <th>3</th>\n",
       "      <td>25894730</td>\n",
       "      <td>5.3</td>\n",
       "      <td>2009-06-26 08:22:21+00:00</td>\n",
       "      <td>-73.976124</td>\n",
       "      <td>40.790844</td>\n",
       "      <td>-73.965316</td>\n",
       "      <td>40.803349</td>\n",
       "      <td>3</td>\n",
       "      <td>1.66168</td>\n",
       "      <td>Friday</td>\n",
       "      <td>4</td>\n",
       "    </tr>\n",
       "    <tr>\n",
       "      <th>4</th>\n",
       "      <td>17610152</td>\n",
       "      <td>16.0</td>\n",
       "      <td>2014-08-28 17:47:00+00:00</td>\n",
       "      <td>-73.925023</td>\n",
       "      <td>40.744085</td>\n",
       "      <td>-73.973082</td>\n",
       "      <td>40.761247</td>\n",
       "      <td>5</td>\n",
       "      <td>4.47545</td>\n",
       "      <td>Thursday</td>\n",
       "      <td>3</td>\n",
       "    </tr>\n",
       "  </tbody>\n",
       "</table>\n",
       "</div>"
      ],
      "text/plain": [
       "    ride_id  fare_amount           pickup_datetime  pickup_longitude  \\\n",
       "0  24238194          7.5 2015-05-07 19:52:06+00:00        -73.999817   \n",
       "1  27835199          7.7 2009-07-17 20:04:56+00:00        -73.994355   \n",
       "2  44984355         12.9 2009-08-24 21:45:00+00:00        -74.005043   \n",
       "3  25894730          5.3 2009-06-26 08:22:21+00:00        -73.976124   \n",
       "4  17610152         16.0 2014-08-28 17:47:00+00:00        -73.925023   \n",
       "\n",
       "   pickup_latitude  dropoff_longitude  dropoff_latitude  passenger_count  \\\n",
       "0        40.738354         -73.999512         40.723217                1   \n",
       "1        40.728225         -73.994710         40.750325                1   \n",
       "2        40.740770         -73.962565         40.772647                1   \n",
       "3        40.790844         -73.965316         40.803349                3   \n",
       "4        40.744085         -73.973082         40.761247                5   \n",
       "\n",
       "   distances       day  day_num  \n",
       "0    1.68332  Thursday        3  \n",
       "1    2.45759    Friday        4  \n",
       "2    5.03638    Monday        0  \n",
       "3    1.66168    Friday        4  \n",
       "4    4.47545  Thursday        3  "
      ]
     },
     "execution_count": 158,
     "metadata": {},
     "output_type": "execute_result"
    }
   ],
   "source": [
    "df.head()"
   ]
  },
  {
   "cell_type": "code",
   "execution_count": 186,
   "id": "62720c02",
   "metadata": {},
   "outputs": [
    {
     "name": "stderr",
     "output_type": "stream",
     "text": [
      "C:\\ProgramData\\Anaconda3\\lib\\site-packages\\seaborn\\_decorators.py:36: FutureWarning: Pass the following variable as a keyword arg: x. From version 0.12, the only valid positional argument will be `data`, and passing other arguments without an explicit keyword will result in an error or misinterpretation.\n",
      "  warnings.warn(\n"
     ]
    },
    {
     "data": {
      "text/plain": [
       "<AxesSubplot:xlabel='fare_amount'>"
      ]
     },
     "execution_count": 186,
     "metadata": {},
     "output_type": "execute_result"
    },
    {
     "data": {
      "image/png": "[encoded data removed]",
      "text/plain": [
       "<Figure size 640x480 with 1 Axes>"
      ]
     },
     "metadata": {},
     "output_type": "display_data"
    }
   ],
   "source": [
    "import seaborn as sns\n",
    "sns.boxplot(df.fare_amount)"
   ]
  },
  {
   "cell_type": "code",
   "execution_count": 218,
   "id": "6102a610",
   "metadata": {},
   "outputs": [],
   "source": [
    "# remove outliers\n",
    "from scipy import stats\n",
    "df = df[stats.zscore(df.fare_amount).between(-2,2)]\n",
    "df = df[stats.zscore(df.distances).between(-2,2)]"
   ]
  },
  {
   "cell_type": "code",
   "execution_count": 240,
   "id": "7289b7f7",
   "metadata": {},
   "outputs": [
    {
     "data": {
      "text/plain": [
       "(179174, 11)"
      ]
     },
     "execution_count": 240,
     "metadata": {},
     "output_type": "execute_result"
    }
   ],
   "source": [
    "df.shape"
   ]
  },
  {
   "cell_type": "code",
   "execution_count": 221,
   "id": "5bcd617d",
   "metadata": {},
   "outputs": [],
   "source": [
    "# segrigate input and output\n",
    "X = df[['passenger_count','day_num','distances']]\n",
    "y = df.fare_amount"
   ]
  },
  {
   "cell_type": "code",
   "execution_count": 223,
   "id": "ab8515a6",
   "metadata": {},
   "outputs": [
    {
     "name": "stdout",
     "output_type": "stream",
     "text": [
      "(125421, 3) (53753, 3)\n",
      "(125421,) (53753,)\n"
     ]
    }
   ],
   "source": [
    "# split train and test\n",
    "from sklearn.model_selection import train_test_split\n",
    "X_train,X_test,y_train,y_test = train_test_split(X,y,test_size=0.3,random_state=10)\n",
    "print(X_train.shape,X_test.shape)\n",
    "print(y_train.shape,y_test.shape)"
   ]
  },
  {
   "cell_type": "code",
   "execution_count": 224,
   "id": "cddcaf43",
   "metadata": {},
   "outputs": [],
   "source": [
    "# rescale\n",
    "from sklearn.preprocessing import StandardScaler\n",
    "scalar = StandardScaler()\n",
    "X_train_trans = pd.DataFrame(scalar.fit_transform(X_train),index=X_train.index,columns=X_train.columns)"
   ]
  },
  {
   "cell_type": "code",
   "execution_count": 225,
   "id": "103a4bc3",
   "metadata": {},
   "outputs": [
    {
     "data": {
      "text/html": [
       "<div>\n",
       "<style scoped>\n",
       "    .dataframe tbody tr th:only-of-type {\n",
       "        vertical-align: middle;\n",
       "    }\n",
       "\n",
       "    .dataframe tbody tr th {\n",
       "        vertical-align: top;\n",
       "    }\n",
       "\n",
       "    .dataframe thead th {\n",
       "        text-align: right;\n",
       "    }\n",
       "</style>\n",
       "<table border=\"1\" class=\"dataframe\">\n",
       "  <thead>\n",
       "    <tr style=\"text-align: right;\">\n",
       "      <th></th>\n",
       "      <th>passenger_count</th>\n",
       "      <th>day_num</th>\n",
       "      <th>distances</th>\n",
       "    </tr>\n",
       "  </thead>\n",
       "  <tbody>\n",
       "    <tr>\n",
       "      <th>159900</th>\n",
       "      <td>-0.477527</td>\n",
       "      <td>-1.053412</td>\n",
       "      <td>0.057777</td>\n",
       "    </tr>\n",
       "    <tr>\n",
       "      <th>187408</th>\n",
       "      <td>0.222121</td>\n",
       "      <td>0.491273</td>\n",
       "      <td>1.293120</td>\n",
       "    </tr>\n",
       "    <tr>\n",
       "      <th>40655</th>\n",
       "      <td>-0.477527</td>\n",
       "      <td>-0.023622</td>\n",
       "      <td>-0.688217</td>\n",
       "    </tr>\n",
       "    <tr>\n",
       "      <th>29959</th>\n",
       "      <td>-0.477527</td>\n",
       "      <td>-1.568307</td>\n",
       "      <td>-0.897174</td>\n",
       "    </tr>\n",
       "    <tr>\n",
       "      <th>40775</th>\n",
       "      <td>2.321065</td>\n",
       "      <td>1.006168</td>\n",
       "      <td>-0.329278</td>\n",
       "    </tr>\n",
       "    <tr>\n",
       "      <th>...</th>\n",
       "      <td>...</td>\n",
       "      <td>...</td>\n",
       "      <td>...</td>\n",
       "    </tr>\n",
       "    <tr>\n",
       "      <th>10475</th>\n",
       "      <td>-0.477527</td>\n",
       "      <td>-0.023622</td>\n",
       "      <td>-0.236681</td>\n",
       "    </tr>\n",
       "    <tr>\n",
       "      <th>117888</th>\n",
       "      <td>-0.477527</td>\n",
       "      <td>-0.538517</td>\n",
       "      <td>-0.711488</td>\n",
       "    </tr>\n",
       "    <tr>\n",
       "      <th>104448</th>\n",
       "      <td>-0.477527</td>\n",
       "      <td>1.521063</td>\n",
       "      <td>2.340187</td>\n",
       "    </tr>\n",
       "    <tr>\n",
       "      <th>105767</th>\n",
       "      <td>-0.477527</td>\n",
       "      <td>-0.023622</td>\n",
       "      <td>-0.402535</td>\n",
       "    </tr>\n",
       "    <tr>\n",
       "      <th>92895</th>\n",
       "      <td>-0.477527</td>\n",
       "      <td>-1.053412</td>\n",
       "      <td>-1.319820</td>\n",
       "    </tr>\n",
       "  </tbody>\n",
       "</table>\n",
       "<p>125421 rows × 3 columns</p>\n",
       "</div>"
      ],
      "text/plain": [
       "        passenger_count   day_num  distances\n",
       "159900        -0.477527 -1.053412   0.057777\n",
       "187408         0.222121  0.491273   1.293120\n",
       "40655         -0.477527 -0.023622  -0.688217\n",
       "29959         -0.477527 -1.568307  -0.897174\n",
       "40775          2.321065  1.006168  -0.329278\n",
       "...                 ...       ...        ...\n",
       "10475         -0.477527 -0.023622  -0.236681\n",
       "117888        -0.477527 -0.538517  -0.711488\n",
       "104448        -0.477527  1.521063   2.340187\n",
       "105767        -0.477527 -0.023622  -0.402535\n",
       "92895         -0.477527 -1.053412  -1.319820\n",
       "\n",
       "[125421 rows x 3 columns]"
      ]
     },
     "execution_count": 225,
     "metadata": {},
     "output_type": "execute_result"
    }
   ],
   "source": [
    "X_train_trans"
   ]
  },
  {
   "cell_type": "code",
   "execution_count": 226,
   "id": "4eaab14e",
   "metadata": {},
   "outputs": [
    {
     "data": {
      "text/plain": [
       "159900    11.5\n",
       "187408    11.5\n",
       "40655      7.5\n",
       "29959      3.7\n",
       "40775      7.5\n",
       "          ... \n",
       "10475      8.5\n",
       "117888     7.0\n",
       "104448    18.5\n",
       "105767    13.7\n",
       "92895      2.5\n",
       "Name: fare_amount, Length: 125421, dtype: float64"
      ]
     },
     "execution_count": 226,
     "metadata": {},
     "output_type": "execute_result"
    }
   ],
   "source": [
    "y_train"
   ]
  },
  {
   "cell_type": "code",
   "execution_count": 227,
   "id": "1e171808",
   "metadata": {},
   "outputs": [],
   "source": [
    "X_test_trans = pd.DataFrame(scalar.transform(X_test),index=X_test.index,columns=X_test.columns)"
   ]
  },
  {
   "cell_type": "code",
   "execution_count": 228,
   "id": "2389fc37",
   "metadata": {},
   "outputs": [
    {
     "data": {
      "text/html": [
       "<div>\n",
       "<style scoped>\n",
       "    .dataframe tbody tr th:only-of-type {\n",
       "        vertical-align: middle;\n",
       "    }\n",
       "\n",
       "    .dataframe tbody tr th {\n",
       "        vertical-align: top;\n",
       "    }\n",
       "\n",
       "    .dataframe thead th {\n",
       "        text-align: right;\n",
       "    }\n",
       "</style>\n",
       "<table border=\"1\" class=\"dataframe\">\n",
       "  <thead>\n",
       "    <tr style=\"text-align: right;\">\n",
       "      <th></th>\n",
       "      <th>passenger_count</th>\n",
       "      <th>day_num</th>\n",
       "      <th>distances</th>\n",
       "    </tr>\n",
       "  </thead>\n",
       "  <tbody>\n",
       "    <tr>\n",
       "      <th>153823</th>\n",
       "      <td>-0.477527</td>\n",
       "      <td>0.491273</td>\n",
       "      <td>-0.924792</td>\n",
       "    </tr>\n",
       "    <tr>\n",
       "      <th>80109</th>\n",
       "      <td>0.921769</td>\n",
       "      <td>1.006168</td>\n",
       "      <td>0.500941</td>\n",
       "    </tr>\n",
       "    <tr>\n",
       "      <th>80791</th>\n",
       "      <td>-0.477527</td>\n",
       "      <td>1.521063</td>\n",
       "      <td>3.034595</td>\n",
       "    </tr>\n",
       "    <tr>\n",
       "      <th>2071</th>\n",
       "      <td>-0.477527</td>\n",
       "      <td>1.006168</td>\n",
       "      <td>2.078648</td>\n",
       "    </tr>\n",
       "    <tr>\n",
       "      <th>128815</th>\n",
       "      <td>0.921769</td>\n",
       "      <td>1.006168</td>\n",
       "      <td>-0.718067</td>\n",
       "    </tr>\n",
       "    <tr>\n",
       "      <th>...</th>\n",
       "      <td>...</td>\n",
       "      <td>...</td>\n",
       "      <td>...</td>\n",
       "    </tr>\n",
       "    <tr>\n",
       "      <th>199729</th>\n",
       "      <td>-0.477527</td>\n",
       "      <td>1.521063</td>\n",
       "      <td>1.489825</td>\n",
       "    </tr>\n",
       "    <tr>\n",
       "      <th>129915</th>\n",
       "      <td>-0.477527</td>\n",
       "      <td>0.491273</td>\n",
       "      <td>-0.237736</td>\n",
       "    </tr>\n",
       "    <tr>\n",
       "      <th>185557</th>\n",
       "      <td>-0.477527</td>\n",
       "      <td>-1.568307</td>\n",
       "      <td>-0.317555</td>\n",
       "    </tr>\n",
       "    <tr>\n",
       "      <th>134219</th>\n",
       "      <td>2.321065</td>\n",
       "      <td>-0.538517</td>\n",
       "      <td>1.021375</td>\n",
       "    </tr>\n",
       "    <tr>\n",
       "      <th>181632</th>\n",
       "      <td>-0.477527</td>\n",
       "      <td>0.491273</td>\n",
       "      <td>-0.517190</td>\n",
       "    </tr>\n",
       "  </tbody>\n",
       "</table>\n",
       "<p>53753 rows × 3 columns</p>\n",
       "</div>"
      ],
      "text/plain": [
       "        passenger_count   day_num  distances\n",
       "153823        -0.477527  0.491273  -0.924792\n",
       "80109          0.921769  1.006168   0.500941\n",
       "80791         -0.477527  1.521063   3.034595\n",
       "2071          -0.477527  1.006168   2.078648\n",
       "128815         0.921769  1.006168  -0.718067\n",
       "...                 ...       ...        ...\n",
       "199729        -0.477527  1.521063   1.489825\n",
       "129915        -0.477527  0.491273  -0.237736\n",
       "185557        -0.477527 -1.568307  -0.317555\n",
       "134219         2.321065 -0.538517   1.021375\n",
       "181632        -0.477527  0.491273  -0.517190\n",
       "\n",
       "[53753 rows x 3 columns]"
      ]
     },
     "execution_count": 228,
     "metadata": {},
     "output_type": "execute_result"
    }
   ],
   "source": [
    "X_test_trans"
   ]
  },
  {
   "cell_type": "code",
   "execution_count": 229,
   "id": "f6b4ef98",
   "metadata": {},
   "outputs": [
    {
     "data": {
      "text/plain": [
       "153823     4.5\n",
       "80109      6.5\n",
       "80791     15.7\n",
       "2071      16.1\n",
       "128815     7.0\n",
       "          ... \n",
       "199729    12.0\n",
       "129915    12.5\n",
       "185557     7.0\n",
       "134219    16.0\n",
       "181632     6.1\n",
       "Name: fare_amount, Length: 53753, dtype: float64"
      ]
     },
     "execution_count": 229,
     "metadata": {},
     "output_type": "execute_result"
    }
   ],
   "source": [
    "y_test  "
   ]
  },
  {
   "cell_type": "code",
   "execution_count": 230,
   "id": "25beda27",
   "metadata": {},
   "outputs": [
    {
     "data": {
      "text/html": [
       "<style>#sk-container-id-3 {color: black;background-color: white;}#sk-container-id-3 pre{padding: 0;}#sk-container-id-3 div.sk-toggleable {background-color: white;}#sk-container-id-3 label.sk-toggleable__label {cursor: pointer;display: block;width: 100%;margin-bottom: 0;padding: 0.3em;box-sizing: border-box;text-align: center;}#sk-container-id-3 label.sk-toggleable__label-arrow:before {content: \"▸\";float: left;margin-right: 0.25em;color: #696969;}#sk-container-id-3 label.sk-toggleable__label-arrow:hover:before {color: black;}#sk-container-id-3 div.sk-estimator:hover label.sk-toggleable__label-arrow:before {color: black;}#sk-container-id-3 div.sk-toggleable__content {max-height: 0;max-width: 0;overflow: hidden;text-align: left;background-color: #f0f8ff;}#sk-container-id-3 div.sk-toggleable__content pre {margin: 0.2em;color: black;border-radius: 0.25em;background-color: #f0f8ff;}#sk-container-id-3 input.sk-toggleable__control:checked~div.sk-toggleable__content {max-height: 200px;max-width: 100%;overflow: auto;}#sk-container-id-3 input.sk-toggleable__control:checked~label.sk-toggleable__label-arrow:before {content: \"▾\";}#sk-container-id-3 div.sk-estimator input.sk-toggleable__control:checked~label.sk-toggleable__label {background-color: #d4ebff;}#sk-container-id-3 div.sk-label input.sk-toggleable__control:checked~label.sk-toggleable__label {background-color: #d4ebff;}#sk-container-id-3 input.sk-hidden--visually {border: 0;clip: rect(1px 1px 1px 1px);clip: rect(1px, 1px, 1px, 1px);height: 1px;margin: -1px;overflow: hidden;padding: 0;position: absolute;width: 1px;}#sk-container-id-3 div.sk-estimator {font-family: monospace;background-color: #f0f8ff;border: 1px dotted black;border-radius: 0.25em;box-sizing: border-box;margin-bottom: 0.5em;}#sk-container-id-3 div.sk-estimator:hover {background-color: #d4ebff;}#sk-container-id-3 div.sk-parallel-item::after {content: \"\";width: 100%;border-bottom: 1px solid gray;flex-grow: 1;}#sk-container-id-3 div.sk-label:hover label.sk-toggleable__label {background-color: #d4ebff;}#sk-container-id-3 div.sk-serial::before {content: \"\";position: absolute;border-left: 1px solid gray;box-sizing: border-box;top: 0;bottom: 0;left: 50%;z-index: 0;}#sk-container-id-3 div.sk-serial {display: flex;flex-direction: column;align-items: center;background-color: white;padding-right: 0.2em;padding-left: 0.2em;position: relative;}#sk-container-id-3 div.sk-item {position: relative;z-index: 1;}#sk-container-id-3 div.sk-parallel {display: flex;align-items: stretch;justify-content: center;background-color: white;position: relative;}#sk-container-id-3 div.sk-item::before, #sk-container-id-3 div.sk-parallel-item::before {content: \"\";position: absolute;border-left: 1px solid gray;box-sizing: border-box;top: 0;bottom: 0;left: 50%;z-index: -1;}#sk-container-id-3 div.sk-parallel-item {display: flex;flex-direction: column;z-index: 1;position: relative;background-color: white;}#sk-container-id-3 div.sk-parallel-item:first-child::after {align-self: flex-end;width: 50%;}#sk-container-id-3 div.sk-parallel-item:last-child::after {align-self: flex-start;width: 50%;}#sk-container-id-3 div.sk-parallel-item:only-child::after {width: 0;}#sk-container-id-3 div.sk-dashed-wrapped {border: 1px dashed gray;margin: 0 0.4em 0.5em 0.4em;box-sizing: border-box;padding-bottom: 0.4em;background-color: white;}#sk-container-id-3 div.sk-label label {font-family: monospace;font-weight: bold;display: inline-block;line-height: 1.2em;}#sk-container-id-3 div.sk-label-container {text-align: center;}#sk-container-id-3 div.sk-container {/* jupyter's `normalize.less` sets `[hidden] { display: none; }` but bootstrap.min.css set `[hidden] { display: none !important; }` so we also need the `!important` here to be able to override the default hidden behavior on the sphinx rendered scikit-learn.org. See: https://github.com/scikit-learn/scikit-learn/issues/21755 */display: inline-block !important;position: relative;}#sk-container-id-3 div.sk-text-repr-fallback {display: none;}</style><div id=\"sk-container-id-3\" class=\"sk-top-container\"><div class=\"sk-text-repr-fallback\"><pre>LinearRegression()</pre><b>In a Jupyter environment, please rerun this cell to show the HTML representation or trust the notebook. <br />On GitHub, the HTML representation is unable to render, please try loading this page with nbviewer.org.</b></div><div class=\"sk-container\" hidden><div class=\"sk-item\"><div class=\"sk-estimator sk-toggleable\"><input class=\"sk-toggleable__control sk-hidden--visually\" id=\"sk-estimator-id-3\" type=\"checkbox\" checked><label for=\"sk-estimator-id-3\" class=\"sk-toggleable__label sk-toggleable__label-arrow\">LinearRegression</label><div class=\"sk-toggleable__content\"><pre>LinearRegression()</pre></div></div></div></div></div>"
      ],
      "text/plain": [
       "LinearRegression()"
      ]
     },
     "execution_count": 230,
     "metadata": {},
     "output_type": "execute_result"
    }
   ],
   "source": [
    "# model \n",
    "from sklearn.linear_model import LinearRegression\n",
    "regressor = LinearRegression()\n",
    "regressor.fit(X_train_trans,y_train)"
   ]
  },
  {
   "cell_type": "code",
   "execution_count": 231,
   "id": "87cb2617",
   "metadata": {},
   "outputs": [],
   "source": [
    "y_test_pre = regressor.predict(X_test)"
   ]
  },
  {
   "cell_type": "code",
   "execution_count": 236,
   "id": "67f2490e",
   "metadata": {},
   "outputs": [
    {
     "name": "stdout",
     "output_type": "stream",
     "text": [
      "0.7313145518873915\n"
     ]
    }
   ],
   "source": [
    "from sklearn.metrics import r2_score\n",
    "r2_score(y_test,y_test_pre) # accuracy"
   ]
  },
  {
   "cell_type": "code",
   "execution_count": 237,
   "id": "8df1758c",
   "metadata": {},
   "outputs": [
    {
     "name": "stdout",
     "output_type": "stream",
     "text": [
      "0.7534477055509743\n"
     ]
    }
   ],
   "source": [
    "from sklearn.tree import DecisionTreeRegressor\n",
    "regressor = DecisionTreeRegressor()\n",
    "regressor.fit(X_train_trans,y_train)\n",
    "y_test_pre = regressor.predict(X_test)\n",
    "metrics.r2_score(y_test,y_test_pre)"
   ]
  },
  {
   "cell_type": "code",
   "execution_count": 238,
   "id": "eff2f2b9",
   "metadata": {},
   "outputs": [
    {
     "name": "stdout",
     "output_type": "stream",
     "text": [
      "0.8546485900038912\n"
     ]
    }
   ],
   "source": [
    "from sklearn.ensemble import RandomForestRegressor\n",
    "regressor = RandomForestRegressor()\n",
    "regressor.fit(X_train_trans,y_train)\n",
    "y_test_pre = regressor.predict(X_test)\n",
    "metrics.r2_score(y_test,y_test_pre)"
   ]
  },
  {
   "cell_type": "code",
   "execution_count": 239,
   "id": "33cc28bc",
   "metadata": {},
   "outputs": [
    {
     "name": "stdout",
     "output_type": "stream",
     "text": [
      "0.7946485900038912\n"
     ]
    }
   ],
   "source": [
    "from sklearn.neighbors import KNeighborsRegressor\n",
    "regressor = KNeighborsRegressor()\n",
    "regressor.fit(X_train_trans,y_train)\n",
    "y_test_pre = regressor.predict(X_test)\n",
    "metrics.r2_score(y_test,y_test_pre)"
   ]
  },
  {
   "cell_type": "markdown",
   "id": "7ca9e8b0",
   "metadata": {},
   "source": [
    "### RandomForestRegressor is working better among all the models"
   ]
  },
  {
   "cell_type": "code",
   "execution_count": null,
   "id": "792974d7",
   "metadata": {},
   "outputs": [],
   "source": []
  }
 ],
 "metadata": {
  "kernelspec": {
   "display_name": "Python 3 (ipykernel)",
   "language": "python",
   "name": "python3"
  },
  "language_info": {
   "codemirror_mode": {
    "name": "ipython",
    "version": 3
   },
   "file_extension": ".py",
   "mimetype": "text/x-python",
   "name": "python",
   "nbconvert_exporter": "python",
   "pygments_lexer": "ipython3",
   "version": "3.9.13"
  }
 },
 "nbformat": 4,
 "nbformat_minor": 5
}
